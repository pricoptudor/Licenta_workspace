{
 "cells": [
  {
   "cell_type": "code",
   "execution_count": 2,
   "metadata": {},
   "outputs": [],
   "source": [
    "import os\n",
    "import glob\n",
    "from tqdm import tqdm\n",
    "from music21 import converter, instrument, note, chord, stream, pitch\n",
    "import numpy as np\n",
    "from keras.utils import to_categorical\n",
    "import tensorflow as tf\n",
    "from keras import backend as K\n",
    "from keras.metrics import Mean\n",
    "from keras.layers import Input, LSTM, Dense, Lambda, Layer\n",
    "from keras.models import Model\n",
    "from keras.optimizers import Adam\n",
    "from keras.losses import KLDivergence, CategoricalCrossentropy"
   ]
  },
  {
   "attachments": {},
   "cell_type": "markdown",
   "metadata": {},
   "source": [
    "### Load and preprocess dataset"
   ]
  },
  {
   "cell_type": "code",
   "execution_count": 4,
   "metadata": {},
   "outputs": [
    {
     "ename": "KeyError",
     "evalue": "2303681894240",
     "output_type": "error",
     "traceback": [
      "\u001b[1;31m---------------------------------------------------------------------------\u001b[0m",
      "\u001b[1;31mKeyError\u001b[0m                                  Traceback (most recent call last)",
      "Cell \u001b[1;32mIn[4], line 1\u001b[0m\n\u001b[1;32m----> 1\u001b[0m test_midi \u001b[39m=\u001b[39m converter\u001b[39m.\u001b[39;49mparseFile(\u001b[39m'\u001b[39;49m\u001b[39m./Jazz_midi/Andy.mid\u001b[39;49m\u001b[39m'\u001b[39;49m)\n\u001b[0;32m      2\u001b[0m \u001b[39mprint\u001b[39m(\u001b[39m'\u001b[39m\u001b[39mStep 1\u001b[39m\u001b[39m'\u001b[39m)\n\u001b[0;32m      3\u001b[0m test_notes_to_parse \u001b[39m=\u001b[39m \u001b[39mNone\u001b[39;00m\n",
      "File \u001b[1;32mc:\\Users\\prico\\Desktop\\Licenta-genre\\lib\\site-packages\\music21\\converter\\__init__.py:1151\u001b[0m, in \u001b[0;36mparseFile\u001b[1;34m(fp, number, format, forceSource, **keywords)\u001b[0m\n\u001b[0;32m   1149\u001b[0m v \u001b[39m=\u001b[39m Converter()\n\u001b[0;32m   1150\u001b[0m fp \u001b[39m=\u001b[39m common\u001b[39m.\u001b[39mcleanpath(fp, returnPathlib\u001b[39m=\u001b[39m\u001b[39mTrue\u001b[39;00m)\n\u001b[1;32m-> 1151\u001b[0m v\u001b[39m.\u001b[39mparseFile(fp, number\u001b[39m=\u001b[39mnumber, \u001b[39mformat\u001b[39m\u001b[39m=\u001b[39m\u001b[39mformat\u001b[39m, forceSource\u001b[39m=\u001b[39mforceSource, \u001b[39m*\u001b[39m\u001b[39m*\u001b[39mkeywords)\n\u001b[0;32m   1152\u001b[0m \u001b[39mif\u001b[39;00m t\u001b[39m.\u001b[39mTYPE_CHECKING:\n\u001b[0;32m   1153\u001b[0m     \u001b[39massert\u001b[39;00m \u001b[39misinstance\u001b[39m(v\u001b[39m.\u001b[39mstream, (stream\u001b[39m.\u001b[39mScore, stream\u001b[39m.\u001b[39mPart, stream\u001b[39m.\u001b[39mOpus))\n",
      "File \u001b[1;32mc:\\Users\\prico\\Desktop\\Licenta-genre\\lib\\site-packages\\music21\\converter\\__init__.py:621\u001b[0m, in \u001b[0;36mConverter.parseFile\u001b[1;34m(self, fp, number, format, forceSource, storePickle, **keywords)\u001b[0m\n\u001b[0;32m    619\u001b[0m \u001b[39melse\u001b[39;00m:\n\u001b[0;32m    620\u001b[0m     environLocal\u001b[39m.\u001b[39mprintDebug(\u001b[39m'\u001b[39m\u001b[39mLoading original version\u001b[39m\u001b[39m'\u001b[39m)\n\u001b[1;32m--> 621\u001b[0m     \u001b[39mself\u001b[39m\u001b[39m.\u001b[39mparseFileNoPickle(fp, number, \u001b[39mformat\u001b[39m, forceSource, \u001b[39m*\u001b[39m\u001b[39m*\u001b[39mkeywords)\n\u001b[0;32m    622\u001b[0m     \u001b[39mif\u001b[39;00m writePickle \u001b[39mis\u001b[39;00m \u001b[39mTrue\u001b[39;00m \u001b[39mand\u001b[39;00m fpPickle \u001b[39mis\u001b[39;00m \u001b[39mnot\u001b[39;00m \u001b[39mNone\u001b[39;00m \u001b[39mand\u001b[39;00m storePickle \u001b[39mis\u001b[39;00m \u001b[39mTrue\u001b[39;00m:\n\u001b[0;32m    623\u001b[0m         \u001b[39m# save the stream to disk...\u001b[39;00m\n\u001b[0;32m    624\u001b[0m         environLocal\u001b[39m.\u001b[39mprintDebug(\u001b[39m'\u001b[39m\u001b[39mFreezing Pickle\u001b[39m\u001b[39m'\u001b[39m)\n",
      "File \u001b[1;32mc:\\Users\\prico\\Desktop\\Licenta-genre\\lib\\site-packages\\music21\\converter\\__init__.py:543\u001b[0m, in \u001b[0;36mConverter.parseFileNoPickle\u001b[1;34m(self, fp, number, format, forceSource, **keywords)\u001b[0m\n\u001b[0;32m    541\u001b[0m \u001b[39mself\u001b[39m\u001b[39m.\u001b[39msubConverter\u001b[39m.\u001b[39mkeywords \u001b[39m=\u001b[39m keywords\n\u001b[0;32m    542\u001b[0m \u001b[39mtry\u001b[39;00m:\n\u001b[1;32m--> 543\u001b[0m     \u001b[39mself\u001b[39m\u001b[39m.\u001b[39msubConverter\u001b[39m.\u001b[39mparseFile(\n\u001b[0;32m    544\u001b[0m         fp,\n\u001b[0;32m    545\u001b[0m         number\u001b[39m=\u001b[39mnumber,\n\u001b[0;32m    546\u001b[0m         \u001b[39m*\u001b[39m\u001b[39m*\u001b[39mkeywords\n\u001b[0;32m    547\u001b[0m     )\n\u001b[0;32m    548\u001b[0m \u001b[39mexcept\u001b[39;00m \u001b[39mNotImplementedError\u001b[39;00m:\n\u001b[0;32m    549\u001b[0m     \u001b[39mraise\u001b[39;00m ConverterFileException(\u001b[39mf\u001b[39m\u001b[39m'\u001b[39m\u001b[39mFile is not in a correct format: \u001b[39m\u001b[39m{\u001b[39;00mfp\u001b[39m}\u001b[39;00m\u001b[39m'\u001b[39m)\n",
      "File \u001b[1;32mc:\\Users\\prico\\Desktop\\Licenta-genre\\lib\\site-packages\\music21\\converter\\subConverters.py:1203\u001b[0m, in \u001b[0;36mConverterMidi.parseFile\u001b[1;34m(self, filePath, number, **keywords)\u001b[0m\n\u001b[0;32m   1192\u001b[0m \u001b[39m'''\u001b[39;00m\n\u001b[0;32m   1193\u001b[0m \u001b[39mGet MIDI data from a file path.\u001b[39;00m\n\u001b[0;32m   1194\u001b[0m \n\u001b[1;32m   (...)\u001b[0m\n\u001b[0;32m   1200\u001b[0m \u001b[39min defaults.quantizationQuarterLengthDivisors. (Default: (4, 3)).\u001b[39;00m\n\u001b[0;32m   1201\u001b[0m \u001b[39m'''\u001b[39;00m\n\u001b[0;32m   1202\u001b[0m \u001b[39mfrom\u001b[39;00m \u001b[39mmusic21\u001b[39;00m\u001b[39m.\u001b[39;00m\u001b[39mmidi\u001b[39;00m \u001b[39mimport\u001b[39;00m translate \u001b[39mas\u001b[39;00m midiTranslate\n\u001b[1;32m-> 1203\u001b[0m midiTranslate\u001b[39m.\u001b[39mmidiFilePathToStream(filePath, inputM21\u001b[39m=\u001b[39m\u001b[39mself\u001b[39m\u001b[39m.\u001b[39mstream, \u001b[39m*\u001b[39m\u001b[39m*\u001b[39mkeywords)\n",
      "File \u001b[1;32mc:\\Users\\prico\\Desktop\\Licenta-genre\\lib\\site-packages\\music21\\midi\\translate.py:2705\u001b[0m, in \u001b[0;36mmidiFilePathToStream\u001b[1;34m(filePath, inputM21, **keywords)\u001b[0m\n\u001b[0;32m   2703\u001b[0m mf\u001b[39m.\u001b[39mread()\n\u001b[0;32m   2704\u001b[0m mf\u001b[39m.\u001b[39mclose()\n\u001b[1;32m-> 2705\u001b[0m \u001b[39mreturn\u001b[39;00m midiFileToStream(mf, inputM21\u001b[39m=\u001b[39minputM21, \u001b[39m*\u001b[39m\u001b[39m*\u001b[39mkeywords)\n",
      "File \u001b[1;32mc:\\Users\\prico\\Desktop\\Licenta-genre\\lib\\site-packages\\music21\\midi\\translate.py:2876\u001b[0m, in \u001b[0;36mmidiFileToStream\u001b[1;34m(mf, inputM21, quantizePost, **keywords)\u001b[0m\n\u001b[0;32m   2872\u001b[0m     \u001b[39mraise\u001b[39;00m exceptions21\u001b[39m.\u001b[39mStreamException(\u001b[39m'\u001b[39m\u001b[39mno tracks are defined in this MIDI file.\u001b[39m\u001b[39m'\u001b[39m)\n\u001b[0;32m   2874\u001b[0m \u001b[39m# create a stream for each track\u001b[39;00m\n\u001b[0;32m   2875\u001b[0m \u001b[39m# may need to check if tracks actually have event data\u001b[39;00m\n\u001b[1;32m-> 2876\u001b[0m midiTracksToStreams(mf\u001b[39m.\u001b[39mtracks,\n\u001b[0;32m   2877\u001b[0m                     ticksPerQuarter\u001b[39m=\u001b[39mmf\u001b[39m.\u001b[39mticksPerQuarterNote,\n\u001b[0;32m   2878\u001b[0m                     quantizePost\u001b[39m=\u001b[39mquantizePost,\n\u001b[0;32m   2879\u001b[0m                     inputM21\u001b[39m=\u001b[39ms,\n\u001b[0;32m   2880\u001b[0m                     \u001b[39m*\u001b[39m\u001b[39m*\u001b[39mkeywords)\n\u001b[0;32m   2881\u001b[0m \u001b[39m# s._setMidiTracks(mf.tracks, mf.ticksPerQuarterNote)\u001b[39;00m\n\u001b[0;32m   2883\u001b[0m \u001b[39mreturn\u001b[39;00m s\n",
      "File \u001b[1;32mc:\\Users\\prico\\Desktop\\Licenta-genre\\lib\\site-packages\\music21\\midi\\translate.py:2613\u001b[0m, in \u001b[0;36mmidiTracksToStreams\u001b[1;34m(midiTracks, ticksPerQuarter, quantizePost, inputM21, **keywords)\u001b[0m\n\u001b[0;32m   2610\u001b[0m     \u001b[39melse\u001b[39;00m:\n\u001b[0;32m   2611\u001b[0m         streamPart \u001b[39m=\u001b[39m conductorPart\n\u001b[1;32m-> 2613\u001b[0m     midiTrackToStream(mt,\n\u001b[0;32m   2614\u001b[0m                       ticksPerQuarter\u001b[39m=\u001b[39mticksPerQuarter,\n\u001b[0;32m   2615\u001b[0m                       quantizePost\u001b[39m=\u001b[39mquantizePost,\n\u001b[0;32m   2616\u001b[0m                       inputM21\u001b[39m=\u001b[39mstreamPart,\n\u001b[0;32m   2617\u001b[0m                       conductorPart\u001b[39m=\u001b[39mconductorPart,\n\u001b[0;32m   2618\u001b[0m                       isFirst\u001b[39m=\u001b[39m(mt \u001b[39mis\u001b[39;00m firstTrackWithNotes),\n\u001b[0;32m   2619\u001b[0m                       \u001b[39m*\u001b[39m\u001b[39m*\u001b[39mkeywords)\n\u001b[0;32m   2621\u001b[0m \u001b[39mreturn\u001b[39;00m s\n",
      "File \u001b[1;32mc:\\Users\\prico\\Desktop\\Licenta-genre\\lib\\site-packages\\music21\\midi\\translate.py:2091\u001b[0m, in \u001b[0;36mmidiTrackToStream\u001b[1;34m(mt, ticksPerQuarter, quantizePost, inputM21, conductorPart, isFirst, quarterLengthDivisors, **keywords)\u001b[0m\n\u001b[0;32m   2088\u001b[0m     \u001b[39mfor\u001b[39;00m m \u001b[39min\u001b[39;00m s\u001b[39m.\u001b[39mgetElementsByClass(stream\u001b[39m.\u001b[39mMeasure):\n\u001b[0;32m   2089\u001b[0m         \u001b[39m# Gaps will be filled by makeRests, below, which now recurses\u001b[39;00m\n\u001b[0;32m   2090\u001b[0m         m\u001b[39m.\u001b[39mmakeVoices(inPlace\u001b[39m=\u001b[39m\u001b[39mTrue\u001b[39;00m, fillGaps\u001b[39m=\u001b[39m\u001b[39mFalse\u001b[39;00m)\n\u001b[1;32m-> 2091\u001b[0m s\u001b[39m.\u001b[39;49mmakeTies(inPlace\u001b[39m=\u001b[39;49m\u001b[39mTrue\u001b[39;49;00m)\n\u001b[0;32m   2092\u001b[0m \u001b[39m# always need to fill gaps, as rests are not found in any other way\u001b[39;00m\n\u001b[0;32m   2093\u001b[0m s\u001b[39m.\u001b[39mmakeRests(inPlace\u001b[39m=\u001b[39m\u001b[39mTrue\u001b[39;00m, fillGaps\u001b[39m=\u001b[39m\u001b[39mTrue\u001b[39;00m, timeRangeFromBarDuration\u001b[39m=\u001b[39m\u001b[39mTrue\u001b[39;00m)\n",
      "File \u001b[1;32mc:\\Users\\prico\\Desktop\\Licenta-genre\\lib\\site-packages\\music21\\stream\\base.py:6499\u001b[0m, in \u001b[0;36mStream.makeTies\u001b[1;34m(self, meterStream, inPlace, displayTiedAccidentals, classFilterList)\u001b[0m\n\u001b[0;32m   6487\u001b[0m \u001b[39mdef\u001b[39;00m \u001b[39mmakeTies\u001b[39m(\u001b[39mself\u001b[39m,\n\u001b[0;32m   6488\u001b[0m              meterStream\u001b[39m=\u001b[39m\u001b[39mNone\u001b[39;00m,\n\u001b[0;32m   6489\u001b[0m              inPlace\u001b[39m=\u001b[39m\u001b[39mFalse\u001b[39;00m,\n\u001b[0;32m   6490\u001b[0m              displayTiedAccidentals\u001b[39m=\u001b[39m\u001b[39mFalse\u001b[39;00m,\n\u001b[0;32m   6491\u001b[0m              classFilterList\u001b[39m=\u001b[39m(note\u001b[39m.\u001b[39mGeneralNote,),\n\u001b[0;32m   6492\u001b[0m              ):\n\u001b[0;32m   6493\u001b[0m     \u001b[39m'''\u001b[39;00m\n\u001b[0;32m   6494\u001b[0m \u001b[39m    Calls :py:func:`~music21.stream.makeNotation.makeTies`.\u001b[39;00m\n\u001b[0;32m   6495\u001b[0m \n\u001b[0;32m   6496\u001b[0m \u001b[39m    Changed in v.4., inPlace=False by default.\u001b[39;00m\n\u001b[0;32m   6497\u001b[0m \u001b[39m    Added in v.7, `classFilterList`.\u001b[39;00m\n\u001b[0;32m   6498\u001b[0m \u001b[39m    '''\u001b[39;00m\n\u001b[1;32m-> 6499\u001b[0m     \u001b[39mreturn\u001b[39;00m makeNotation\u001b[39m.\u001b[39;49mmakeTies(\n\u001b[0;32m   6500\u001b[0m         \u001b[39mself\u001b[39;49m,\n\u001b[0;32m   6501\u001b[0m         meterStream\u001b[39m=\u001b[39;49mmeterStream,\n\u001b[0;32m   6502\u001b[0m         inPlace\u001b[39m=\u001b[39;49minPlace,\n\u001b[0;32m   6503\u001b[0m         displayTiedAccidentals\u001b[39m=\u001b[39;49mdisplayTiedAccidentals,\n\u001b[0;32m   6504\u001b[0m         classFilterList\u001b[39m=\u001b[39;49mclassFilterList,\n\u001b[0;32m   6505\u001b[0m     )\n",
      "File \u001b[1;32mc:\\Users\\prico\\Desktop\\Licenta-genre\\lib\\site-packages\\music21\\stream\\makeNotation.py:1312\u001b[0m, in \u001b[0;36mmakeTies\u001b[1;34m(s, meterStream, inPlace, displayTiedAccidentals, classFilterList)\u001b[0m\n\u001b[0;32m   1307\u001b[0m     dst \u001b[39m=\u001b[39m mNext\n\u001b[0;32m   1309\u001b[0m \u001b[39m# mNext.coreSelfActiveSite(eRemain)\u001b[39;00m\n\u001b[0;32m   1310\u001b[0m \u001b[39m# manually set activeSite\u001b[39;00m\n\u001b[0;32m   1311\u001b[0m \u001b[39m# cannot use coreInsert here\u001b[39;00m\n\u001b[1;32m-> 1312\u001b[0m dst\u001b[39m.\u001b[39;49minsert(\u001b[39m0\u001b[39;49m, eRemain)\n\u001b[0;32m   1314\u001b[0m \u001b[39m# we are not sure that this element fits\u001b[39;00m\n\u001b[0;32m   1315\u001b[0m \u001b[39m# completely in the next measure, thus, need to\u001b[39;00m\n\u001b[0;32m   1316\u001b[0m \u001b[39m# continue processing each measure\u001b[39;00m\n\u001b[0;32m   1317\u001b[0m \u001b[39mif\u001b[39;00m mNextAdd:\n\u001b[0;32m   1318\u001b[0m     \u001b[39m# environLocal.printDebug([\u001b[39;00m\n\u001b[0;32m   1319\u001b[0m     \u001b[39m#    'makeTies() inserting mNext into returnObj',\u001b[39;00m\n\u001b[0;32m   1320\u001b[0m     \u001b[39m#    mNext])\u001b[39;00m\n",
      "File \u001b[1;32mc:\\Users\\prico\\Desktop\\Licenta-genre\\lib\\site-packages\\music21\\stream\\base.py:2257\u001b[0m, in \u001b[0;36mStream.insert\u001b[1;34m(self, offsetOrItemOrList, itemOrNone, ignoreSort, setActiveSite)\u001b[0m\n\u001b[0;32m   2254\u001b[0m \u001b[39mself\u001b[39m\u001b[39m.\u001b[39mcoreGuardBeforeAddElement(element)\n\u001b[0;32m   2255\u001b[0m \u001b[39m# main insert procedure here\u001b[39;00m\n\u001b[1;32m-> 2257\u001b[0m storeSorted \u001b[39m=\u001b[39m \u001b[39mself\u001b[39;49m\u001b[39m.\u001b[39;49mcoreInsert(offset,\n\u001b[0;32m   2258\u001b[0m                               element,\n\u001b[0;32m   2259\u001b[0m                               ignoreSort\u001b[39m=\u001b[39;49mignoreSort,\n\u001b[0;32m   2260\u001b[0m                               setActiveSite\u001b[39m=\u001b[39;49msetActiveSite)\n\u001b[0;32m   2261\u001b[0m updateIsFlat \u001b[39m=\u001b[39m \u001b[39mFalse\u001b[39;00m\n\u001b[0;32m   2262\u001b[0m \u001b[39mif\u001b[39;00m element\u001b[39m.\u001b[39misStream:\n",
      "File \u001b[1;32mc:\\Users\\prico\\Desktop\\Licenta-genre\\lib\\site-packages\\music21\\stream\\core.py:111\u001b[0m, in \u001b[0;36mStreamCore.coreInsert\u001b[1;34m(self, offset, element, ignoreSort, setActiveSite)\u001b[0m\n\u001b[0;32m    109\u001b[0m \u001b[39melse\u001b[39;00m:\n\u001b[0;32m    110\u001b[0m     highestSortTuple \u001b[39m=\u001b[39m \u001b[39mself\u001b[39m\u001b[39m.\u001b[39m_elements[\u001b[39m-\u001b[39m\u001b[39m1\u001b[39m]\u001b[39m.\u001b[39msortTuple()\n\u001b[1;32m--> 111\u001b[0m     thisSortTuple \u001b[39m=\u001b[39m element\u001b[39m.\u001b[39;49msortTuple()\u001b[39m.\u001b[39mmodify(offset\u001b[39m=\u001b[39moffset)\n\u001b[0;32m    113\u001b[0m     \u001b[39mif\u001b[39;00m highestSortTuple \u001b[39m<\u001b[39m thisSortTuple:\n\u001b[0;32m    114\u001b[0m         storeSorted \u001b[39m=\u001b[39m \u001b[39mTrue\u001b[39;00m\n",
      "File \u001b[1;32mc:\\Users\\prico\\Desktop\\Licenta-genre\\lib\\site-packages\\music21\\base.py:2672\u001b[0m, in \u001b[0;36mMusic21Object.sortTuple\u001b[1;34m(self, useSite, raiseExceptionOnMiss)\u001b[0m\n\u001b[0;32m   2670\u001b[0m     insertIndex \u001b[39m=\u001b[39m \u001b[39mself\u001b[39m\u001b[39m.\u001b[39msites\u001b[39m.\u001b[39msiteDict[\u001b[39mid\u001b[39m(useSite)]\u001b[39m.\u001b[39mglobalSiteIndex\n\u001b[0;32m   2671\u001b[0m \u001b[39melif\u001b[39;00m \u001b[39mself\u001b[39m\u001b[39m.\u001b[39mactiveSite \u001b[39mis\u001b[39;00m \u001b[39mnot\u001b[39;00m \u001b[39mNone\u001b[39;00m:\n\u001b[1;32m-> 2672\u001b[0m     insertIndex \u001b[39m=\u001b[39m \u001b[39mself\u001b[39;49m\u001b[39m.\u001b[39;49msites\u001b[39m.\u001b[39;49msiteDict[\u001b[39mid\u001b[39;49m(\u001b[39mself\u001b[39;49m\u001b[39m.\u001b[39;49mactiveSite)]\u001b[39m.\u001b[39mglobalSiteIndex\n\u001b[0;32m   2673\u001b[0m \u001b[39melse\u001b[39;00m:  \u001b[39m# for None, use this instead of default of -2.\u001b[39;00m\n\u001b[0;32m   2674\u001b[0m     insertIndex \u001b[39m=\u001b[39m \u001b[39m0\u001b[39m\n",
      "\u001b[1;31mKeyError\u001b[0m: 2303681894240"
     ]
    }
   ],
   "source": [
    "# Corrupt files:\n",
    "test_midi = converter.parseFile('./Jazz_midi/Andy.mid')\n",
    "print('Step 1')\n",
    "test_notes_to_parse = None\n",
    "\n",
    "test_parts = instrument.partitionByInstrument(test_midi)\n",
    "print('Step 2')\n",
    "if test_parts: \n",
    "    notes_to_parse = test_parts.parts[0].recurse()\n",
    "else: \n",
    "    notes_to_parse = test_midi.flat.notes"
   ]
  },
  {
   "cell_type": "code",
   "execution_count": 4,
   "metadata": {},
   "outputs": [
    {
     "name": "stderr",
     "output_type": "stream",
     "text": [
      "  5%|▍         | 46/934 [01:46<44:12,  2.99s/it]  "
     ]
    },
    {
     "name": "stdout",
     "output_type": "stream",
     "text": [
      "Error loading ./Jazz_midi\\Andy.mid: 1606126296032\n"
     ]
    },
    {
     "name": "stderr",
     "output_type": "stream",
     "text": [
      " 18%|█▊        | 166/934 [06:00<22:03,  1.72s/it]"
     ]
    },
    {
     "name": "stdout",
     "output_type": "stream",
     "text": [
      "Error loading ./Jazz_midi\\Chromazone.mid: 1606081379776\n"
     ]
    },
    {
     "name": "stderr",
     "output_type": "stream",
     "text": [
      " 30%|██▉       | 279/934 [10:20<18:06,  1.66s/it]"
     ]
    },
    {
     "name": "stdout",
     "output_type": "stream",
     "text": [
      "Error loading ./Jazz_midi\\Fragile.mid: 1606163902816\n"
     ]
    },
    {
     "name": "stderr",
     "output_type": "stream",
     "text": [
      " 30%|███       | 281/934 [10:32<42:15,  3.88s/it]"
     ]
    },
    {
     "name": "stdout",
     "output_type": "stream",
     "text": [
      "Error loading ./Jazz_midi\\FreedoomOfSpeech.mid: 1606056338912\n"
     ]
    },
    {
     "name": "stderr",
     "output_type": "stream",
     "text": [
      " 32%|███▏      | 298/934 [11:08<32:58,  3.11s/it]"
     ]
    },
    {
     "name": "stdout",
     "output_type": "stream",
     "text": [
      "Error loading ./Jazz_midi\\GlasgowKiss.mid: 1606220636896\n"
     ]
    },
    {
     "name": "stderr",
     "output_type": "stream",
     "text": [
      " 34%|███▍      | 321/934 [12:13<22:09,  2.17s/it]"
     ]
    },
    {
     "name": "stdout",
     "output_type": "stream",
     "text": [
      "Error loading ./Jazz_midi\\HelpMe.mid: 1606055012480\n"
     ]
    },
    {
     "name": "stderr",
     "output_type": "stream",
     "text": [
      " 65%|██████▌   | 609/934 [29:36<27:20,  5.05s/it]  "
     ]
    },
    {
     "name": "stdout",
     "output_type": "stream",
     "text": [
      "Error loading ./Jazz_midi\\PlayingForTime.mid: 1606203842816\n"
     ]
    },
    {
     "name": "stderr",
     "output_type": "stream",
     "text": [
      " 93%|█████████▎| 864/934 [35:55<02:25,  2.07s/it]"
     ]
    },
    {
     "name": "stdout",
     "output_type": "stream",
     "text": [
      "Error loading ./Jazz_midi\\WhatsNewInBaltimore.mid: 1605937139472\n"
     ]
    },
    {
     "name": "stderr",
     "output_type": "stream",
     "text": [
      "100%|██████████| 934/934 [37:27<00:00,  2.41s/it]\n"
     ]
    }
   ],
   "source": [
    "def preprocess_midi_files(input_folder, output_file):\n",
    "    notes = []\n",
    "\n",
    "    for file in tqdm(glob.glob(os.path.join(input_folder, \"*.mid\"))):\n",
    "        try:\n",
    "            midi = converter.parse(file)\n",
    "            notes_to_parse = None\n",
    "\n",
    "            parts = instrument.partitionByInstrument(midi)\n",
    "            if parts: \n",
    "                notes_to_parse = parts.parts[0].recurse()\n",
    "            else: \n",
    "                notes_to_parse = midi.flat.notes\n",
    "\n",
    "            for element in notes_to_parse:\n",
    "                if isinstance(element, note.Note):\n",
    "                    notes.append(str(element.pitch))\n",
    "                elif isinstance(element, chord.Chord):\n",
    "                    notes.append('.'.join(str(n) for n in element.normalOrder))\n",
    "        except Exception as e:\n",
    "            print(f'Error loading {file}: {e}')\n",
    "\n",
    "    with open(output_file, 'w') as f:\n",
    "        f.write('\\n'.join(notes))\n",
    "\n",
    "input_folder = './Jazz_midi/'\n",
    "output_file = \"jazz.txt\"\n",
    "preprocess_midi_files(input_folder, output_file)"
   ]
  },
  {
   "cell_type": "code",
   "execution_count": 4,
   "metadata": {},
   "outputs": [],
   "source": [
    "def prepare_sequences(notes, sequence_length, n_vocab):\n",
    "    pitchnames = sorted(set(item for item in notes))\n",
    "    note_to_int = dict((note, number) for number, note in enumerate(pitchnames))\n",
    "\n",
    "    network_input = []\n",
    "    network_output = []\n",
    "\n",
    "    for i in range(0, len(notes) - sequence_length, 1):\n",
    "        sequence_in = notes[i:i + sequence_length]\n",
    "        sequence_out = notes[i + sequence_length]\n",
    "        network_input.append([note_to_int[char] for char in sequence_in])\n",
    "        network_output.append(note_to_int[sequence_out])\n",
    "\n",
    "    n_patterns = len(network_input)\n",
    "    network_input = np.reshape(network_input, (n_patterns, sequence_length, 1))\n",
    "    network_input = network_input / float(n_vocab)\n",
    "    network_output = to_categorical(network_output)\n",
    "\n",
    "    return network_input, network_output\n",
    "\n",
    "with open(\"jazz.txt\", 'r') as f:\n",
    "    notes = f.read().split('\\n')\n",
    "\n",
    "sequence_length = 100\n",
    "n_vocab = len(set(notes))\n",
    "network_input, network_output = prepare_sequences(notes, sequence_length, n_vocab)\n"
   ]
  },
  {
   "cell_type": "code",
   "execution_count": 46,
   "metadata": {},
   "outputs": [
    {
     "name": "stdout",
     "output_type": "stream",
     "text": [
      "<class 'numpy.ndarray'>\n",
      "[0. 0. 0. 0. 0. 0. 0. 0. 0. 0. 0. 0. 0. 0. 0. 0. 0. 0. 0. 0. 0. 0. 0. 0.\n",
      " 0. 0. 0. 0. 0. 0. 0. 0. 0. 0. 0. 0. 0. 0. 0. 0. 0. 0. 0. 0. 0. 0. 0. 0.\n",
      " 0. 0. 0. 0. 0. 0. 0. 0. 0. 0. 0. 0. 0. 0. 0. 0. 0. 0. 0. 0. 0. 0. 0. 0.\n",
      " 0. 0. 0. 0. 0. 0. 0. 0. 0. 0. 0. 0. 0. 0. 0. 0. 0. 0. 0. 0. 0. 0. 0. 0.\n",
      " 0. 0. 0. 0. 0. 0. 0. 0. 0. 0. 0. 0. 0. 0. 0. 0. 0. 0. 0. 0. 0. 0. 0. 0.\n",
      " 0. 0. 0. 0. 0. 0. 0. 0. 0. 0. 0. 0. 0. 0. 0. 0. 0. 0. 0. 0. 0. 0. 0. 0.\n",
      " 0. 0. 0. 0. 0. 0. 0. 0. 0. 0. 0. 0. 0. 0. 0. 0. 0. 0. 0. 0. 0. 0. 0. 0.\n",
      " 0. 0. 0. 0. 0. 0. 0. 0. 0. 0. 0. 0. 0. 0. 0. 0. 0. 0. 0. 0. 0. 0. 0. 0.\n",
      " 0. 0. 0. 0. 0. 0. 0. 0. 0. 0. 0. 0. 0. 0. 0. 0. 0. 0. 0. 0. 0. 0. 0. 0.\n",
      " 0. 0. 0. 0. 0. 0. 0. 0. 0. 0. 0. 0. 0. 0. 0. 0. 0. 0. 0. 0. 0. 0. 0. 0.\n",
      " 0. 0. 0. 0. 0. 0. 0. 0. 0. 0. 0. 0. 0. 0. 0. 0. 0. 0. 0. 0. 0. 0. 0. 0.\n",
      " 0. 0. 0. 0. 0. 0. 0. 0. 0. 0. 0. 0. 0. 0. 0. 0. 0. 0. 0. 0. 0. 0. 0. 0.\n",
      " 0. 0. 0. 0. 0. 0. 0. 0. 0. 0. 0. 0. 0. 0. 0. 0. 0. 0. 0. 0. 0. 0. 0. 0.\n",
      " 0. 0. 0. 0. 0. 0. 0. 0. 0. 0. 0. 0. 0. 0. 0. 0. 0. 0. 0. 0. 0. 0. 0. 0.\n",
      " 0. 0. 0. 0. 0. 0. 0. 0. 0. 0. 0. 0. 0. 0. 0. 0. 0. 0. 0. 0. 0. 0. 0. 1.\n",
      " 0. 0. 0. 0. 0. 0. 0. 0. 0. 0. 0. 0. 0. 0. 0. 0. 0. 0. 0. 0. 0. 0. 0. 0.\n",
      " 0. 0. 0. 0. 0. 0. 0. 0. 0. 0. 0. 0. 0. 0. 0. 0. 0. 0. 0. 0. 0. 0. 0. 0.\n",
      " 0. 0. 0. 0. 0. 0. 0. 0. 0. 0. 0. 0. 0. 0. 0. 0. 0. 0. 0. 0. 0. 0. 0. 0.\n",
      " 0. 0. 0. 0. 0. 0. 0. 0. 0. 0. 0. 0. 0. 0. 0. 0. 0. 0. 0. 0. 0. 0. 0. 0.\n",
      " 0. 0. 0. 0. 0. 0. 0. 0. 0. 0. 0. 0. 0. 0. 0. 0. 0. 0. 0. 0. 0. 0. 0. 0.\n",
      " 0. 0. 0. 0. 0. 0. 0. 0. 0. 0. 0. 0. 0. 0. 0. 0. 0. 0. 0. 0. 0. 0. 0. 0.\n",
      " 0. 0. 0. 0. 0. 0. 0. 0. 0. 0. 0. 0. 0. 0. 0. 0. 0. 0. 0. 0. 0. 0. 0. 0.\n",
      " 0. 0. 0. 0. 0. 0. 0. 0. 0. 0. 0. 0. 0. 0. 0. 0. 0. 0. 0. 0. 0. 0. 0. 0.\n",
      " 0. 0. 0. 0. 0. 0. 0. 0. 0. 0. 0. 0. 0. 0. 0. 0. 0. 0. 0. 0. 0. 0. 0. 0.\n",
      " 0. 0. 0. 0. 0. 0. 0. 0. 0. 0. 0. 0. 0. 0. 0. 0. 0. 0. 0. 0. 0. 0. 0. 0.\n",
      " 0. 0. 0. 0. 0. 0. 0. 0. 0. 0. 0. 0. 0. 0. 0. 0. 0. 0. 0. 0. 0. 0. 0. 0.\n",
      " 0. 0. 0. 0. 0. 0. 0. 0. 0. 0. 0. 0. 0. 0. 0. 0. 0. 0. 0. 0. 0. 0. 0. 0.\n",
      " 0. 0. 0. 0. 0. 0. 0. 0. 0. 0. 0. 0. 0. 0. 0. 0. 0. 0. 0. 0. 0. 0. 0. 0.\n",
      " 0. 0. 0. 0. 0. 0. 0. 0. 0. 0. 0. 0. 0. 0. 0. 0. 0. 0. 0. 0. 0. 0. 0. 0.\n",
      " 0. 0. 0. 0. 0. 0. 0. 0. 0. 0. 0. 0. 0. 0. 0. 0. 0. 0. 0. 0. 0. 0. 0. 0.\n",
      " 0. 0. 0. 0. 0. 0. 0. 0. 0. 0. 0. 0. 0. 0. 0. 0. 0. 0. 0. 0. 0. 0. 0. 0.\n",
      " 0. 0. 0. 0. 0. 0. 0. 0. 0. 0. 0. 0. 0. 0. 0. 0. 0. 0. 0. 0. 0. 0. 0. 0.\n",
      " 0. 0. 0. 0. 0. 0. 0. 0. 0. 0. 0. 0. 0. 0. 0. 0. 0. 0. 0.]\n"
     ]
    },
    {
     "data": {
      "text/plain": [
       "((300693, 100, 1), (300693, 787))"
      ]
     },
     "execution_count": 46,
     "metadata": {},
     "output_type": "execute_result"
    }
   ],
   "source": [
    "print(type(network_input[0][0]))\n",
    "print(network_output[0])\n",
    "network_input.shape, network_output.shape"
   ]
  },
  {
   "attachments": {},
   "cell_type": "markdown",
   "metadata": {},
   "source": [
    "### Define VAE architecture"
   ]
  },
  {
   "cell_type": "code",
   "execution_count": 36,
   "metadata": {},
   "outputs": [],
   "source": [
    "class Sampling(Layer):\n",
    "    \"\"\"Uses (z_mean, z_log_var) to sample z, the vector encoding a digit.\"\"\"\n",
    "\n",
    "    def call(self, inputs):\n",
    "        z_mean, z_log_var = inputs\n",
    "        batch = tf.shape(z_mean)[0]\n",
    "        dim = tf.shape(z_mean)[1]\n",
    "        epsilon = K.random_normal(shape=(batch, dim))\n",
    "        return z_mean + tf.exp(0.5 * z_log_var) * epsilon"
   ]
  },
  {
   "cell_type": "code",
   "execution_count": 37,
   "metadata": {},
   "outputs": [
    {
     "name": "stdout",
     "output_type": "stream",
     "text": [
      "Model: \"model_32\"\n",
      "__________________________________________________________________________________________________\n",
      " Layer (type)                   Output Shape         Param #     Connected to                     \n",
      "==================================================================================================\n",
      " input_31 (InputLayer)          [(None, 100, 1)]     0           []                               \n",
      "                                                                                                  \n",
      " lstm_66 (LSTM)                 (None, 100, 256)     264192      ['input_31[0][0]']               \n",
      "                                                                                                  \n",
      " lstm_67 (LSTM)                 (None, 256)          525312      ['lstm_66[0][0]']                \n",
      "                                                                                                  \n",
      " dense_67 (Dense)               (None, 64)           16448       ['lstm_67[0][0]']                \n",
      "                                                                                                  \n",
      " dense_68 (Dense)               (None, 64)           16448       ['lstm_67[0][0]']                \n",
      "                                                                                                  \n",
      " sampling_11 (Sampling)         (None, 64)           0           ['dense_67[0][0]',               \n",
      "                                                                  'dense_68[0][0]']               \n",
      "                                                                                                  \n",
      "==================================================================================================\n",
      "Total params: 822,400\n",
      "Trainable params: 822,400\n",
      "Non-trainable params: 0\n",
      "__________________________________________________________________________________________________\n"
     ]
    }
   ],
   "source": [
    "latent_dim = 64\n",
    "\n",
    "encoder_inputs = Input(shape=(sequence_length, 1))\n",
    "x = LSTM(256, return_sequences=True)(encoder_inputs)\n",
    "x = LSTM(256)(x)\n",
    "z_mean = Dense(latent_dim)(x)\n",
    "z_log_var = Dense(latent_dim)(x)\n",
    "z = Sampling()([z_mean, z_log_var])\n",
    "\n",
    "encoder = Model(encoder_inputs, [z_mean, z_log_var, z])\n",
    "encoder.summary()"
   ]
  },
  {
   "cell_type": "code",
   "execution_count": 38,
   "metadata": {},
   "outputs": [
    {
     "name": "stdout",
     "output_type": "stream",
     "text": [
      "Model: \"model_33\"\n",
      "_________________________________________________________________\n",
      " Layer (type)                Output Shape              Param #   \n",
      "=================================================================\n",
      " input_32 (InputLayer)       [(None, 64)]              0         \n",
      "                                                                 \n",
      " dense_69 (Dense)            (None, 25600)             1664000   \n",
      "                                                                 \n",
      " tf.reshape_9 (TFOpLambda)   (None, 100, 256)          0         \n",
      "                                                                 \n",
      " lstm_68 (LSTM)              (None, 100, 256)          525312    \n",
      "                                                                 \n",
      " lstm_69 (LSTM)              (None, 256)               525312    \n",
      "                                                                 \n",
      " dense_70 (Dense)            (None, 787)               202259    \n",
      "                                                                 \n",
      "=================================================================\n",
      "Total params: 2,916,883\n",
      "Trainable params: 2,916,883\n",
      "Non-trainable params: 0\n",
      "_________________________________________________________________\n"
     ]
    }
   ],
   "source": [
    "latent_inputs = Input(shape=(latent_dim,))\n",
    "x = Dense(sequence_length * 256, activation='relu')(latent_inputs)\n",
    "x = tf.reshape(x, (-1, sequence_length, 256))\n",
    "x = LSTM(256, return_sequences=True)(x)\n",
    "x = LSTM(256)(x)\n",
    "decoder_outputs = Dense(n_vocab, activation='softmax')(x)\n",
    "\n",
    "decoder = Model(latent_inputs, decoder_outputs)\n",
    "decoder.summary()"
   ]
  },
  {
   "cell_type": "code",
   "execution_count": 58,
   "metadata": {},
   "outputs": [],
   "source": [
    "class VAE(Model):\n",
    "    def __init__(self, encoder, decoder, **kwargs):\n",
    "        super().__init__(**kwargs)\n",
    "        self.encoder = encoder\n",
    "        self.decoder = decoder\n",
    "        self.total_loss_tracker = Mean(name=\"total_loss\")\n",
    "        self.reconstruction_loss_tracker = Mean(name=\"reconstruction_loss\")\n",
    "        self.kl_loss_tracker =  Mean(name=\"kl_loss\")\n",
    "\n",
    "    @property\n",
    "    def metrics(self):\n",
    "        return [\n",
    "            self.total_loss_tracker,\n",
    "            self.reconstruction_loss_tracker,\n",
    "            self.kl_loss_tracker,\n",
    "        ]\n",
    "\n",
    "    def train_step(self, data):\n",
    "        input, output = data\n",
    "        with tf.GradientTape() as tape:\n",
    "            z_mean, z_log_var, z = self.encoder(input)\n",
    "            reconstruction = self.decoder(z)\n",
    "            # print(f'Here: {input.shape}, {output.shape}, {reconstruction.shape}')\n",
    "            # print(f'{tf.keras.losses.categorical_crossentropy(output, reconstruction)}')\n",
    "            reconstruction_loss = tf.reduce_mean(\n",
    "                    tf.keras.losses.categorical_crossentropy(output, reconstruction)\n",
    "            )\n",
    "            kl_loss = -0.5 * (1 + z_log_var - tf.square(z_mean) - tf.exp(z_log_var))\n",
    "            kl_loss = tf.reduce_mean(tf.reduce_sum(kl_loss, axis=1))\n",
    "            total_loss = reconstruction_loss + kl_loss\n",
    "        grads = tape.gradient(total_loss, self.trainable_weights)\n",
    "        self.optimizer.apply_gradients(zip(grads, self.trainable_weights))\n",
    "        self.total_loss_tracker.update_state(total_loss)\n",
    "        self.reconstruction_loss_tracker.update_state(reconstruction_loss)\n",
    "        self.kl_loss_tracker.update_state(kl_loss)\n",
    "        return {\n",
    "            \"loss\": self.total_loss_tracker.result(),\n",
    "            \"reconstruction_loss\": self.reconstruction_loss_tracker.result(),\n",
    "            \"kl_loss\": self.kl_loss_tracker.result(),\n",
    "        }"
   ]
  },
  {
   "cell_type": "code",
   "execution_count": 60,
   "metadata": {},
   "outputs": [
    {
     "name": "stdout",
     "output_type": "stream",
     "text": [
      "Epoch 1/5\n",
      "4699/4699 [==============================] - 53397s 11s/step - loss: 4.8321 - reconstruction_loss: 4.8198 - kl_loss: 2.1082e-05\n",
      "Epoch 2/5\n",
      "4699/4699 [==============================] - 17760s 4s/step - loss: 4.8084 - reconstruction_loss: 4.8081 - kl_loss: 6.8637e-06\n",
      "Epoch 3/5\n",
      "4699/4699 [==============================] - 20140s 4s/step - loss: 4.8044 - reconstruction_loss: 4.8053 - kl_loss: 2.7446e-06\n",
      "Epoch 4/5\n",
      "4699/4699 [==============================] - 50350s 11s/step - loss: 4.8073 - reconstruction_loss: 4.8039 - kl_loss: 7.2207e-07\n",
      "Epoch 5/5\n",
      "4699/4699 [==============================] - 18632s 4s/step - loss: 4.8027 - reconstruction_loss: 4.8030 - kl_loss: 2.7516e-06\n"
     ]
    },
    {
     "data": {
      "text/plain": [
       "<keras.callbacks.History at 0x127357462e0>"
      ]
     },
     "execution_count": 60,
     "metadata": {},
     "output_type": "execute_result"
    }
   ],
   "source": [
    "vae = VAE(encoder, decoder)\n",
    "vae.compile(optimizer=Adam())\n",
    "vae.fit(network_input, network_output, epochs=5, batch_size=64)"
   ]
  },
  {
   "cell_type": "code",
   "execution_count": 62,
   "metadata": {},
   "outputs": [],
   "source": [
    "vae.save_weights('jazz_vae.hdf5')"
   ]
  },
  {
   "attachments": {},
   "cell_type": "markdown",
   "metadata": {},
   "source": [
    "### Postprocess and save generated music"
   ]
  },
  {
   "cell_type": "code",
   "execution_count": 82,
   "metadata": {},
   "outputs": [
    {
     "name": "stdout",
     "output_type": "stream",
     "text": [
      "shape: [(None, 100, 1)] vs (1, 100, 1) & (1, 787)\n",
      "WARNING:tensorflow:Model was constructed with shape (None, 100, 787) for input KerasTensor(type_spec=TensorSpec(shape=(None, 100, 787), dtype=tf.float32, name='input_30'), name='input_30', description=\"created by layer 'input_30'\"), but it was called on an input with incompatible shape (None, 100, 1).\n",
      "shape: [(None, 100, 1)] vs (1, 100, 1) & (1, 787)\n",
      "shape: [(None, 100, 1)] vs (1, 100, 1) & (1, 787)\n",
      "shape: [(None, 100, 1)] vs (1, 100, 1) & (1, 787)\n",
      "shape: [(None, 100, 1)] vs (1, 100, 1) & (1, 787)\n",
      "shape: [(None, 100, 1)] vs (1, 100, 1) & (1, 787)\n",
      "shape: [(None, 100, 1)] vs (1, 100, 1) & (1, 787)\n",
      "shape: [(None, 100, 1)] vs (1, 100, 1) & (1, 787)\n",
      "shape: [(None, 100, 1)] vs (1, 100, 1) & (1, 787)\n",
      "shape: [(None, 100, 1)] vs (1, 100, 1) & (1, 787)\n",
      "shape: [(None, 100, 1)] vs (1, 100, 1) & (1, 787)\n",
      "shape: [(None, 100, 1)] vs (1, 100, 1) & (1, 787)\n",
      "shape: [(None, 100, 1)] vs (1, 100, 1) & (1, 787)\n",
      "shape: [(None, 100, 1)] vs (1, 100, 1) & (1, 787)\n",
      "shape: [(None, 100, 1)] vs (1, 100, 1) & (1, 787)\n",
      "shape: [(None, 100, 1)] vs (1, 100, 1) & (1, 787)\n",
      "shape: [(None, 100, 1)] vs (1, 100, 1) & (1, 787)\n",
      "shape: [(None, 100, 1)] vs (1, 100, 1) & (1, 787)\n",
      "shape: [(None, 100, 1)] vs (1, 100, 1) & (1, 787)\n",
      "shape: [(None, 100, 1)] vs (1, 100, 1) & (1, 787)\n",
      "shape: [(None, 100, 1)] vs (1, 100, 1) & (1, 787)\n",
      "shape: [(None, 100, 1)] vs (1, 100, 1) & (1, 787)\n",
      "shape: [(None, 100, 1)] vs (1, 100, 1) & (1, 787)\n",
      "shape: [(None, 100, 1)] vs (1, 100, 1) & (1, 787)\n",
      "shape: [(None, 100, 1)] vs (1, 100, 1) & (1, 787)\n",
      "shape: [(None, 100, 1)] vs (1, 100, 1) & (1, 787)\n",
      "shape: [(None, 100, 1)] vs (1, 100, 1) & (1, 787)\n",
      "shape: [(None, 100, 1)] vs (1, 100, 1) & (1, 787)\n",
      "shape: [(None, 100, 1)] vs (1, 100, 1) & (1, 787)\n",
      "shape: [(None, 100, 1)] vs (1, 100, 1) & (1, 787)\n",
      "shape: [(None, 100, 1)] vs (1, 100, 1) & (1, 787)\n",
      "shape: [(None, 100, 1)] vs (1, 100, 1) & (1, 787)\n",
      "shape: [(None, 100, 1)] vs (1, 100, 1) & (1, 787)\n",
      "shape: [(None, 100, 1)] vs (1, 100, 1) & (1, 787)\n",
      "shape: [(None, 100, 1)] vs (1, 100, 1) & (1, 787)\n",
      "shape: [(None, 100, 1)] vs (1, 100, 1) & (1, 787)\n",
      "shape: [(None, 100, 1)] vs (1, 100, 1) & (1, 787)\n",
      "shape: [(None, 100, 1)] vs (1, 100, 1) & (1, 787)\n",
      "shape: [(None, 100, 1)] vs (1, 100, 1) & (1, 787)\n",
      "shape: [(None, 100, 1)] vs (1, 100, 1) & (1, 787)\n",
      "shape: [(None, 100, 1)] vs (1, 100, 1) & (1, 787)\n",
      "shape: [(None, 100, 1)] vs (1, 100, 1) & (1, 787)\n",
      "shape: [(None, 100, 1)] vs (1, 100, 1) & (1, 787)\n",
      "shape: [(None, 100, 1)] vs (1, 100, 1) & (1, 787)\n",
      "shape: [(None, 100, 1)] vs (1, 100, 1) & (1, 787)\n",
      "shape: [(None, 100, 1)] vs (1, 100, 1) & (1, 787)\n",
      "shape: [(None, 100, 1)] vs (1, 100, 1) & (1, 787)\n",
      "shape: [(None, 100, 1)] vs (1, 100, 1) & (1, 787)\n",
      "shape: [(None, 100, 1)] vs (1, 100, 1) & (1, 787)\n",
      "shape: [(None, 100, 1)] vs (1, 100, 1) & (1, 787)\n",
      "shape: [(None, 100, 1)] vs (1, 100, 1) & (1, 787)\n",
      "shape: [(None, 100, 1)] vs (1, 100, 1) & (1, 787)\n",
      "shape: [(None, 100, 1)] vs (1, 100, 1) & (1, 787)\n",
      "shape: [(None, 100, 1)] vs (1, 100, 1) & (1, 787)\n",
      "shape: [(None, 100, 1)] vs (1, 100, 1) & (1, 787)\n",
      "shape: [(None, 100, 1)] vs (1, 100, 1) & (1, 787)\n",
      "shape: [(None, 100, 1)] vs (1, 100, 1) & (1, 787)\n",
      "shape: [(None, 100, 1)] vs (1, 100, 1) & (1, 787)\n",
      "shape: [(None, 100, 1)] vs (1, 100, 1) & (1, 787)\n",
      "shape: [(None, 100, 1)] vs (1, 100, 1) & (1, 787)\n",
      "shape: [(None, 100, 1)] vs (1, 100, 1) & (1, 787)\n",
      "shape: [(None, 100, 1)] vs (1, 100, 1) & (1, 787)\n",
      "shape: [(None, 100, 1)] vs (1, 100, 1) & (1, 787)\n",
      "shape: [(None, 100, 1)] vs (1, 100, 1) & (1, 787)\n",
      "shape: [(None, 100, 1)] vs (1, 100, 1) & (1, 787)\n",
      "shape: [(None, 100, 1)] vs (1, 100, 1) & (1, 787)\n",
      "shape: [(None, 100, 1)] vs (1, 100, 1) & (1, 787)\n",
      "shape: [(None, 100, 1)] vs (1, 100, 1) & (1, 787)\n",
      "shape: [(None, 100, 1)] vs (1, 100, 1) & (1, 787)\n",
      "shape: [(None, 100, 1)] vs (1, 100, 1) & (1, 787)\n",
      "shape: [(None, 100, 1)] vs (1, 100, 1) & (1, 787)\n",
      "shape: [(None, 100, 1)] vs (1, 100, 1) & (1, 787)\n",
      "shape: [(None, 100, 1)] vs (1, 100, 1) & (1, 787)\n",
      "shape: [(None, 100, 1)] vs (1, 100, 1) & (1, 787)\n",
      "shape: [(None, 100, 1)] vs (1, 100, 1) & (1, 787)\n",
      "shape: [(None, 100, 1)] vs (1, 100, 1) & (1, 787)\n",
      "shape: [(None, 100, 1)] vs (1, 100, 1) & (1, 787)\n",
      "shape: [(None, 100, 1)] vs (1, 100, 1) & (1, 787)\n",
      "shape: [(None, 100, 1)] vs (1, 100, 1) & (1, 787)\n",
      "shape: [(None, 100, 1)] vs (1, 100, 1) & (1, 787)\n",
      "shape: [(None, 100, 1)] vs (1, 100, 1) & (1, 787)\n",
      "shape: [(None, 100, 1)] vs (1, 100, 1) & (1, 787)\n",
      "shape: [(None, 100, 1)] vs (1, 100, 1) & (1, 787)\n",
      "shape: [(None, 100, 1)] vs (1, 100, 1) & (1, 787)\n",
      "shape: [(None, 100, 1)] vs (1, 100, 1) & (1, 787)\n",
      "shape: [(None, 100, 1)] vs (1, 100, 1) & (1, 787)\n",
      "shape: [(None, 100, 1)] vs (1, 100, 1) & (1, 787)\n",
      "shape: [(None, 100, 1)] vs (1, 100, 1) & (1, 787)\n",
      "shape: [(None, 100, 1)] vs (1, 100, 1) & (1, 787)\n",
      "shape: [(None, 100, 1)] vs (1, 100, 1) & (1, 787)\n",
      "shape: [(None, 100, 1)] vs (1, 100, 1) & (1, 787)\n",
      "shape: [(None, 100, 1)] vs (1, 100, 1) & (1, 787)\n",
      "shape: [(None, 100, 1)] vs (1, 100, 1) & (1, 787)\n",
      "shape: [(None, 100, 1)] vs (1, 100, 1) & (1, 787)\n",
      "shape: [(None, 100, 1)] vs (1, 100, 1) & (1, 787)\n",
      "shape: [(None, 100, 1)] vs (1, 100, 1) & (1, 787)\n",
      "shape: [(None, 100, 1)] vs (1, 100, 1) & (1, 787)\n",
      "shape: [(None, 100, 1)] vs (1, 100, 1) & (1, 787)\n",
      "shape: [(None, 100, 1)] vs (1, 100, 1) & (1, 787)\n",
      "shape: [(None, 100, 1)] vs (1, 100, 1) & (1, 787)\n"
     ]
    }
   ],
   "source": [
    "def generate_music(vae_model, network_input, int_to_note, n_vocab, sequence_length):\n",
    "    start = np.random.randint(0, len(network_input) - 1)\n",
    "    pattern = network_input[start]\n",
    "    prediction_output = []\n",
    "\n",
    "    for note_index in range(100):\n",
    "        prediction_input = np.reshape(pattern, (1, sequence_length, 1))\n",
    "        prediction = vae_model.predict([prediction_input, prediction_input], verbose=0)\n",
    "        index = np.argmax(prediction)\n",
    "        result = int_to_note[index]\n",
    "        prediction_output.append(result)\n",
    "        pattern = np.append(pattern[1:], [index / float(n_vocab)])\n",
    "    return prediction_output\n",
    "\n",
    "int_to_note = dict((number, note) for number, note in enumerate(sorted(set(item for item in notes))))\n",
    "generated_notes = generate_music(vae_model, network_input, int_to_note, n_vocab, sequence_length)"
   ]
  },
  {
   "cell_type": "code",
   "execution_count": 84,
   "metadata": {},
   "outputs": [
    {
     "data": {
      "text/plain": [
       "['8.10.0.2.3',\n",
       " '8.10.0.2.3',\n",
       " 'F#-1',\n",
       " 'F#-1',\n",
       " '8.10.0.2.3',\n",
       " '11.0.2.6',\n",
       " '11.0.2.6',\n",
       " 'F#-1',\n",
       " 'F#-1',\n",
       " '11.0.2.6',\n",
       " 'F#-1',\n",
       " 'F#-1',\n",
       " '3.5.6',\n",
       " 'F#-1',\n",
       " 'F#-1',\n",
       " 'F#-1',\n",
       " 'F#-1',\n",
       " '8.10',\n",
       " '1.2.4.5.6.9',\n",
       " 'F#-1',\n",
       " 'F#-1',\n",
       " 'F#-1',\n",
       " 'F#-1',\n",
       " 'F#-1',\n",
       " 'F#-1',\n",
       " 'F#-1',\n",
       " 'F#-1',\n",
       " '3.7',\n",
       " 'F#-1',\n",
       " 'F#-1',\n",
       " 'F#-1',\n",
       " 'F#-1',\n",
       " '8.10.0.2.3',\n",
       " 'F#-1',\n",
       " '11.0.2.6',\n",
       " 'F#-1',\n",
       " 'F#-1',\n",
       " 'F#-1',\n",
       " '8.10.0.2.3',\n",
       " 'F#-1',\n",
       " '10.3',\n",
       " 'F#-1',\n",
       " 'F#-1',\n",
       " '2.5.6',\n",
       " '8.10.0.2.3',\n",
       " 'F#-1',\n",
       " 'F#-1',\n",
       " 'F#-1',\n",
       " 'F#-1',\n",
       " 'F#-1',\n",
       " 'F#-1',\n",
       " 'F#-1',\n",
       " 'F#-1',\n",
       " 'F#-1',\n",
       " 'F#-1',\n",
       " 'F#-1',\n",
       " 'F#-1',\n",
       " 'F#-1',\n",
       " '6.7.9.11.2',\n",
       " 'F#-1',\n",
       " '6.7.9.11.2',\n",
       " 'F#-1',\n",
       " '2.5.6',\n",
       " 'F#-1',\n",
       " 'F#-1',\n",
       " 'F#-1',\n",
       " 'F#-1',\n",
       " 'F#-1',\n",
       " '6.7.9.11.2',\n",
       " 'F#-1',\n",
       " '8.10.0.2.3',\n",
       " '8.10.0.2.3',\n",
       " 'F#-1',\n",
       " '8.10.0.2.3',\n",
       " 'F#-1',\n",
       " '8.10.3',\n",
       " 'F#-1',\n",
       " 'F#-1',\n",
       " '11.0.2.6',\n",
       " 'F#-1',\n",
       " 'F#-1',\n",
       " 'F#-1',\n",
       " '11.0.2.6',\n",
       " 'D3',\n",
       " 'F#-1',\n",
       " 'F#-1',\n",
       " 'F#-1',\n",
       " '5.8.10',\n",
       " 'D3',\n",
       " 'F#-1',\n",
       " '7.9.11.3',\n",
       " 'F#-1',\n",
       " 'F#-1',\n",
       " 'F#-1',\n",
       " 'F#-1',\n",
       " '3.5.6',\n",
       " 'F#-1',\n",
       " 'F#-1',\n",
       " '11.0.2.6',\n",
       " 'F#-1']"
      ]
     },
     "execution_count": 84,
     "metadata": {},
     "output_type": "execute_result"
    }
   ],
   "source": [
    "generated_notes"
   ]
  },
  {
   "cell_type": "code",
   "execution_count": 95,
   "metadata": {},
   "outputs": [],
   "source": [
    "new_note = note.Note('F#-1') # why is it not recognized?"
   ]
  },
  {
   "cell_type": "code",
   "execution_count": 96,
   "metadata": {},
   "outputs": [
    {
     "name": "stdout",
     "output_type": "stream",
     "text": [
      "F#-1\n",
      "Error loading pattern: F#-1: #- is not a supported accidental type\n",
      "F#-1\n",
      "Error loading pattern: F#-1: #- is not a supported accidental type\n",
      "F#-1\n",
      "Error loading pattern: F#-1: #- is not a supported accidental type\n",
      "F#-1\n",
      "Error loading pattern: F#-1: #- is not a supported accidental type\n",
      "F#-1\n",
      "Error loading pattern: F#-1: #- is not a supported accidental type\n",
      "F#-1\n",
      "Error loading pattern: F#-1: #- is not a supported accidental type\n",
      "F#-1\n",
      "Error loading pattern: F#-1: #- is not a supported accidental type\n",
      "F#-1\n",
      "Error loading pattern: F#-1: #- is not a supported accidental type\n",
      "F#-1\n",
      "Error loading pattern: F#-1: #- is not a supported accidental type\n",
      "F#-1\n",
      "Error loading pattern: F#-1: #- is not a supported accidental type\n",
      "F#-1\n",
      "Error loading pattern: F#-1: #- is not a supported accidental type\n",
      "F#-1\n",
      "Error loading pattern: F#-1: #- is not a supported accidental type\n",
      "F#-1\n",
      "Error loading pattern: F#-1: #- is not a supported accidental type\n",
      "F#-1\n",
      "Error loading pattern: F#-1: #- is not a supported accidental type\n",
      "F#-1\n",
      "Error loading pattern: F#-1: #- is not a supported accidental type\n",
      "F#-1\n",
      "Error loading pattern: F#-1: #- is not a supported accidental type\n",
      "F#-1\n",
      "Error loading pattern: F#-1: #- is not a supported accidental type\n",
      "F#-1\n",
      "Error loading pattern: F#-1: #- is not a supported accidental type\n",
      "F#-1\n",
      "Error loading pattern: F#-1: #- is not a supported accidental type\n",
      "F#-1\n",
      "Error loading pattern: F#-1: #- is not a supported accidental type\n",
      "F#-1\n",
      "Error loading pattern: F#-1: #- is not a supported accidental type\n",
      "F#-1\n",
      "Error loading pattern: F#-1: #- is not a supported accidental type\n",
      "F#-1\n",
      "Error loading pattern: F#-1: #- is not a supported accidental type\n",
      "F#-1\n",
      "Error loading pattern: F#-1: #- is not a supported accidental type\n",
      "F#-1\n",
      "Error loading pattern: F#-1: #- is not a supported accidental type\n",
      "F#-1\n",
      "Error loading pattern: F#-1: #- is not a supported accidental type\n",
      "F#-1\n",
      "Error loading pattern: F#-1: #- is not a supported accidental type\n",
      "F#-1\n",
      "Error loading pattern: F#-1: #- is not a supported accidental type\n",
      "F#-1\n",
      "Error loading pattern: F#-1: #- is not a supported accidental type\n",
      "F#-1\n",
      "Error loading pattern: F#-1: #- is not a supported accidental type\n",
      "F#-1\n",
      "Error loading pattern: F#-1: #- is not a supported accidental type\n",
      "F#-1\n",
      "Error loading pattern: F#-1: #- is not a supported accidental type\n",
      "F#-1\n",
      "Error loading pattern: F#-1: #- is not a supported accidental type\n",
      "F#-1\n",
      "Error loading pattern: F#-1: #- is not a supported accidental type\n",
      "F#-1\n",
      "Error loading pattern: F#-1: #- is not a supported accidental type\n",
      "F#-1\n",
      "Error loading pattern: F#-1: #- is not a supported accidental type\n",
      "F#-1\n",
      "Error loading pattern: F#-1: #- is not a supported accidental type\n",
      "F#-1\n",
      "Error loading pattern: F#-1: #- is not a supported accidental type\n",
      "F#-1\n",
      "Error loading pattern: F#-1: #- is not a supported accidental type\n",
      "F#-1\n",
      "Error loading pattern: F#-1: #- is not a supported accidental type\n",
      "F#-1\n",
      "Error loading pattern: F#-1: #- is not a supported accidental type\n",
      "F#-1\n",
      "Error loading pattern: F#-1: #- is not a supported accidental type\n",
      "F#-1\n",
      "Error loading pattern: F#-1: #- is not a supported accidental type\n",
      "F#-1\n",
      "Error loading pattern: F#-1: #- is not a supported accidental type\n",
      "F#-1\n",
      "Error loading pattern: F#-1: #- is not a supported accidental type\n",
      "F#-1\n",
      "Error loading pattern: F#-1: #- is not a supported accidental type\n",
      "F#-1\n",
      "Error loading pattern: F#-1: #- is not a supported accidental type\n",
      "F#-1\n",
      "Error loading pattern: F#-1: #- is not a supported accidental type\n",
      "F#-1\n",
      "Error loading pattern: F#-1: #- is not a supported accidental type\n",
      "F#-1\n",
      "Error loading pattern: F#-1: #- is not a supported accidental type\n",
      "F#-1\n",
      "Error loading pattern: F#-1: #- is not a supported accidental type\n",
      "F#-1\n",
      "Error loading pattern: F#-1: #- is not a supported accidental type\n",
      "F#-1\n",
      "Error loading pattern: F#-1: #- is not a supported accidental type\n",
      "F#-1\n",
      "Error loading pattern: F#-1: #- is not a supported accidental type\n",
      "F#-1\n",
      "Error loading pattern: F#-1: #- is not a supported accidental type\n",
      "F#-1\n",
      "Error loading pattern: F#-1: #- is not a supported accidental type\n",
      "F#-1\n",
      "Error loading pattern: F#-1: #- is not a supported accidental type\n",
      "D3\n",
      "F#-1\n",
      "Error loading pattern: F#-1: #- is not a supported accidental type\n",
      "F#-1\n",
      "Error loading pattern: F#-1: #- is not a supported accidental type\n",
      "F#-1\n",
      "Error loading pattern: F#-1: #- is not a supported accidental type\n",
      "D3\n",
      "F#-1\n",
      "Error loading pattern: F#-1: #- is not a supported accidental type\n",
      "F#-1\n",
      "Error loading pattern: F#-1: #- is not a supported accidental type\n",
      "F#-1\n",
      "Error loading pattern: F#-1: #- is not a supported accidental type\n",
      "F#-1\n",
      "Error loading pattern: F#-1: #- is not a supported accidental type\n",
      "F#-1\n",
      "Error loading pattern: F#-1: #- is not a supported accidental type\n",
      "F#-1\n",
      "Error loading pattern: F#-1: #- is not a supported accidental type\n",
      "F#-1\n",
      "Error loading pattern: F#-1: #- is not a supported accidental type\n",
      "F#-1\n",
      "Error loading pattern: F#-1: #- is not a supported accidental type\n"
     ]
    }
   ],
   "source": [
    "def create_midi(prediction_output, output_file):\n",
    "    offset = 0\n",
    "    output_notes = []\n",
    "\n",
    "    for pattern in prediction_output:\n",
    "        try:\n",
    "            if ('.' in pattern) or pattern.isdigit():\n",
    "                notes_in_chord = pattern.split('.')\n",
    "                notes = []\n",
    "                for current_note in notes_in_chord:\n",
    "                    new_note = note.Note(int(current_note))\n",
    "                    new_note.storedInstrument = instrument.Piano()\n",
    "                    notes.append(new_note)\n",
    "                new_chord = chord.Chord(notes)\n",
    "                new_chord.offset = offset\n",
    "                output_notes.append(new_chord)\n",
    "            else:\n",
    "                print(pattern)\n",
    "                new_note = note.Note()\n",
    "                new_note.pitch = pitch.Pitch(pattern)\n",
    "                new_note.offset = offset\n",
    "                new_note.storedInstrument = instrument.Piano()\n",
    "                output_notes.append(new_note)\n",
    "\n",
    "            offset += 0.5\n",
    "        except Exception as e:\n",
    "            print(f'Error loading pattern: {pattern}: {e}')\n",
    "\n",
    "    midi_stream = stream.Stream(output_notes)\n",
    "    midi_stream.write('midi', fp=output_file)\n",
    "\n",
    "output_file = \"generated_music.mid\"\n",
    "create_midi(generated_notes, output_file)"
   ]
  }
 ],
 "metadata": {
  "kernelspec": {
   "display_name": "Python 3",
   "language": "python",
   "name": "python3"
  },
  "language_info": {
   "codemirror_mode": {
    "name": "ipython",
    "version": 3
   },
   "file_extension": ".py",
   "mimetype": "text/x-python",
   "name": "python",
   "nbconvert_exporter": "python",
   "pygments_lexer": "ipython3",
   "version": "3.9.16"
  },
  "orig_nbformat": 4
 },
 "nbformat": 4,
 "nbformat_minor": 2
}
